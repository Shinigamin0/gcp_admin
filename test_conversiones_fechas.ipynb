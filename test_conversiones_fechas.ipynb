{
 "cells": [
  {
   "cell_type": "code",
   "execution_count": 26,
   "metadata": {},
   "outputs": [
    {
     "name": "stdout",
     "output_type": "stream",
     "text": [
      "2023-06-23 19:57:19.261755\n",
      "1687568239.26173\n",
      "2023-06-23 19:57:19.261730\n",
      "1687568239.261755\n",
      "2023-06-23 00:00:00\n"
     ]
    }
   ],
   "source": [
    "import time\n",
    "import datetime \n",
    "ahora_en_time = time.time()\n",
    "ahora_en_datetime = datetime.datetime.now()\n",
    "hace_7_dias = datetime.datetime.now() - datetime.timedelta(days=7)\n",
    "time_a_datetime = datetime.datetime.fromtimestamp(ahora_en_time)\n",
    "datetime_a_time = datetime.datetime.timestamp(ahora_en_datetime)\n",
    "datetime_str = '23/06/23'\n",
    "datetime_object = datetime.datetime.strptime(datetime_str, '%d/%m/%y')\n",
    "\n",
    "print(ahora_en_datetime)\n",
    "print(ahora_en_time)\n",
    "print(time_a_datetime)\n",
    "print(datetime_a_time)\n",
    "print(datetime_object)"
   ]
  }
 ],
 "metadata": {
  "kernelspec": {
   "display_name": "Python 3",
   "language": "python",
   "name": "python3"
  },
  "language_info": {
   "codemirror_mode": {
    "name": "ipython",
    "version": 3
   },
   "file_extension": ".py",
   "mimetype": "text/x-python",
   "name": "python",
   "nbconvert_exporter": "python",
   "pygments_lexer": "ipython3",
   "version": "3.10.0"
  },
  "orig_nbformat": 4
 },
 "nbformat": 4,
 "nbformat_minor": 2
}
